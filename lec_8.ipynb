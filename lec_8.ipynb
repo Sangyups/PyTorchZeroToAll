{
  "nbformat": 4,
  "nbformat_minor": 0,
  "metadata": {
    "colab": {
      "name": "lec_8.ipynb",
      "provenance": [],
      "authorship_tag": "ABX9TyP2DKyQuYVXnqCQFL+tbTju",
      "include_colab_link": true
    },
    "kernelspec": {
      "name": "python3",
      "display_name": "Python 3"
    },
    "language_info": {
      "name": "python"
    }
  },
  "cells": [
    {
      "cell_type": "markdown",
      "metadata": {
        "id": "view-in-github",
        "colab_type": "text"
      },
      "source": [
        "<a href=\"https://colab.research.google.com/github/Sangyups/PyTorchZeroToAll/blob/main/lec_8.ipynb\" target=\"_parent\"><img src=\"https://colab.research.google.com/assets/colab-badge.svg\" alt=\"Open In Colab\"/></a>"
      ]
    },
    {
      "cell_type": "code",
      "metadata": {
        "colab": {
          "base_uri": "https://localhost:8080/"
        },
        "id": "fO4LTcp8dSHb",
        "outputId": "6631491d-3d4e-4d25-e556-f88037e2cb3e"
      },
      "source": [
        "import torch\n",
        "import torch.nn.functional as F\n",
        "import numpy as np\n",
        "from torch.autograd import Variable\n",
        "from torch.utils.data import Dataset, DataLoader\n",
        "from google.colab import drive\n",
        "drive.mount('/content/gdrive')\n",
        "\n",
        "\n",
        "class DiabetesDataset(Dataset):\n",
        "    def __init__(self):\n",
        "        xy = np.loadtxt('/content/gdrive/My Drive/Colab Notebooks/diabetes.csv', delimiter=',', dtype=np.float32)\n",
        "        self.x_data = Variable(torch.from_numpy(xy[:, 0:-1]))\n",
        "        self.y_data = Variable(torch.from_numpy(xy[:, [-1]]))\n",
        "        self.len = xy.shape[0]\n",
        "    def __getitem__(self, index):\n",
        "        return self.x_data[index], self.y_data[index]\n",
        "    def __len__(self):\n",
        "        return self.len\n",
        "\n",
        "dataset = DiabetesDataset()\n",
        "train_loader = DataLoader(dataset=dataset, batch_size=32, shuffle=True, num_workers=2)\n",
        "\n",
        "class Model(torch.nn.Module):\n",
        "    def __init__(self):\n",
        "        super(Model, self).__init__()\n",
        "        self.l1 = torch.nn.Linear(8, 6)\n",
        "        self.l2 = torch.nn.Linear(6, 4)\n",
        "        self.l3 = torch.nn.Linear(4, 1)\n",
        "        self.sigmoid = torch.nn.Sigmoid()\n",
        "    def forward(self, x):\n",
        "        out1 = self.sigmoid(self.l1(x))\n",
        "        out2 = self.sigmoid(self.l2(out1))\n",
        "        y_pred = self.sigmoid(self.l3(out2))\n",
        "        return y_pred\n",
        "model = Model()\n",
        "\n",
        "criterion = torch.nn.BCELoss()\n",
        "optimizer = torch.optim.SGD(model.parameters(), lr=0.1)\n",
        "\n",
        "for epoch in range(2):\n",
        "    for i, data in enumerate(train_loader, 0):\n",
        "        inputs, labels = data\n",
        "        inputs, labels = Variable(inputs), Variable(labels)\n",
        "        y_pred = model(inputs)\n",
        "\n",
        "        loss = criterion(y_pred, labels)\n",
        "        print(epoch, i, loss.item())\n",
        "\n",
        "        optimizer.zero_grad()\n",
        "        loss.backward()\n",
        "        optimizer.step()\n",
        "\n"
      ],
      "execution_count": 3,
      "outputs": [
        {
          "output_type": "stream",
          "text": [
            "Drive already mounted at /content/gdrive; to attempt to forcibly remount, call drive.mount(\"/content/gdrive\", force_remount=True).\n",
            "0 0 0.7404325604438782\n",
            "0 1 0.769923210144043\n",
            "0 2 0.7774761915206909\n",
            "0 3 0.7856287360191345\n",
            "0 4 0.7279067635536194\n",
            "0 5 0.7103900909423828\n",
            "0 6 0.7306411862373352\n",
            "0 7 0.6982062458992004\n",
            "0 8 0.7002115249633789\n",
            "0 9 0.6969097852706909\n",
            "0 10 0.691781759262085\n",
            "0 11 0.6899008750915527\n",
            "0 12 0.6827855706214905\n",
            "0 13 0.6887023448944092\n",
            "0 14 0.6750074625015259\n",
            "0 15 0.6947441101074219\n",
            "0 16 0.675614595413208\n",
            "0 17 0.6534983515739441\n",
            "0 18 0.6608818173408508\n",
            "0 19 0.6711641550064087\n",
            "0 20 0.6853827834129333\n",
            "0 21 0.6398370862007141\n",
            "0 22 0.6758054494857788\n",
            "0 23 0.647378146648407\n",
            "1 0 0.647056519985199\n",
            "1 1 0.6655683517456055\n",
            "1 2 0.7073807120323181\n",
            "1 3 0.6358664631843567\n",
            "1 4 0.6316022872924805\n",
            "1 5 0.6518876552581787\n",
            "1 6 0.7234415411949158\n",
            "1 7 0.641357958316803\n",
            "1 8 0.6158144474029541\n",
            "1 9 0.6626518964767456\n",
            "1 10 0.6626575589179993\n",
            "1 11 0.5828748941421509\n",
            "1 12 0.6761072278022766\n",
            "1 13 0.6757557392120361\n",
            "1 14 0.7189028263092041\n",
            "1 15 0.6480081081390381\n",
            "1 16 0.6621453762054443\n",
            "1 17 0.675788402557373\n",
            "1 18 0.5648029446601868\n",
            "1 19 0.6917318105697632\n",
            "1 20 0.6622092723846436\n",
            "1 21 0.526704728603363\n",
            "1 22 0.6442536115646362\n",
            "1 23 0.6458366513252258\n"
          ],
          "name": "stdout"
        }
      ]
    },
    {
      "cell_type": "code",
      "metadata": {
        "id": "zYihHIUVvFAc"
      },
      "source": [
        ""
      ],
      "execution_count": null,
      "outputs": []
    }
  ]
}